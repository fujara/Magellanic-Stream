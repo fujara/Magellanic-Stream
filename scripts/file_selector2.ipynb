{
 "cells": [
  {
   "cell_type": "code",
   "execution_count": 105,
   "metadata": {},
   "outputs": [],
   "source": [
    "from astropy.io import fits\n",
    "import numpy as np\n",
    "from astropy import units as u\n",
    "from astropy.coordinates import SkyCoord\n",
    "import pandas as pd\n",
    "from reproject import reproject_interp\n",
    "from reproject.mosaicking import reproject_and_coadd \n",
    "import seaborn as sns\n",
    "from astropy.table import Table\n",
    "from astropy.io import ascii"
   ]
  },
  {
   "cell_type": "code",
   "execution_count": 106,
   "metadata": {},
   "outputs": [],
   "source": [
    "data_dir = '/data4/mcavieres/tile1/casu.ast.cam.ac.uk/~eglez/vistasp/requests/108159/prov/'\n",
    "data_dir_second = '/data4/mcavieres/tile1/second_prop/casu.ast.cam.ac.uk/~eglez/vistasp/requests/108166/prov'"
   ]
  },
  {
   "cell_type": "code",
   "execution_count": 107,
   "metadata": {},
   "outputs": [],
   "source": [
    "data = pd.read_csv('/Users/mncavieres/Documents/2022-1/Investigacion/Data/headers_1st_proposal.dat', sep = ' ')\n",
    "data_2 = pd.read_csv('/Users/mncavieres/Documents/2022-1/Investigacion/Data/headers_2_prop.dat', sep = ' ')\n",
    "data_t = pd.concat([data, data_2], ignore_index = True)"
   ]
  },
  {
   "cell_type": "code",
   "execution_count": 108,
   "metadata": {},
   "outputs": [],
   "source": [
    "data_t.to_csv('/Users/mncavieres/Documents/2022-1/Investigacion/Data/Observations_downloaded.csv', index = False)"
   ]
  },
  {
   "cell_type": "code",
   "execution_count": 109,
   "metadata": {},
   "outputs": [],
   "source": [
    "Tiles = [ SkyCoord('23:26:07.46 -53:28:13.7', unit = (u.hourangle, u.deg))\n",
    ",SkyCoord('23:53:46.15 -52:32:21.7', unit = (u.hourangle, u.deg))\n",
    ",SkyCoord('00:22:34.67 -51:17:37.6', unit = (u.hourangle, u.deg))\n",
    ",SkyCoord('00:53:43.00 -49:36:27.2', unit = (u.hourangle, u.deg))\n",
    ",SkyCoord('01:03:22.85 -48:35:37.4', unit = (u.hourangle, u.deg))\n",
    ",SkyCoord('01:12:56.00 -47:35:04.6', unit = (u.hourangle, u.deg))\n",
    ",SkyCoord('01:37:49.01 -45:26:39.8', unit = (u.hourangle, u.deg))\n",
    ",SkyCoord('01:59:33.94 -42:55:45.3', unit = (u.hourangle, u.deg))\n",
    ",SkyCoord('02:18:17.5 -40:11:49.7', unit = (u.hourangle, u.deg))]"
   ]
  },
  {
   "cell_type": "code",
   "execution_count": 110,
   "metadata": {},
   "outputs": [],
   "source": [
    "Tiles_data = []\n",
    "radius = 1\n",
    "for tile in Tiles:\n",
    "    tile_data = data_t.loc[np.abs(data_t.RA-tile.ra.degree) < radius].loc[np.abs(data_t.DEC-tile.dec.degree) < radius]\n",
    "    Tiles_data.append(tile_data)\n"
   ]
  },
  {
   "cell_type": "code",
   "execution_count": 111,
   "metadata": {},
   "outputs": [
    {
     "name": "stdout",
     "output_type": "stream",
     "text": [
      "1635\n",
      "1612\n",
      "1101\n",
      "1101\n",
      "858\n",
      "1084\n",
      "837\n",
      "874\n",
      "0\n"
     ]
    }
   ],
   "source": [
    "j = 0\n",
    "for tile in Tiles_data:\n",
    "    j += len(tile)\n",
    "    print(len(tile))"
   ]
  },
  {
   "cell_type": "code",
   "execution_count": 112,
   "metadata": {},
   "outputs": [
    {
     "data": {
      "text/plain": [
       "9106"
      ]
     },
     "execution_count": 112,
     "metadata": {},
     "output_type": "execute_result"
    }
   ],
   "source": [
    "len(data_t)"
   ]
  },
  {
   "cell_type": "code",
   "execution_count": 113,
   "metadata": {},
   "outputs": [
    {
     "data": {
      "text/plain": [
       "9102"
      ]
     },
     "execution_count": 113,
     "metadata": {},
     "output_type": "execute_result"
    }
   ],
   "source": [
    "j "
   ]
  },
  {
   "cell_type": "code",
   "execution_count": 114,
   "metadata": {},
   "outputs": [],
   "source": [
    "Tiles_df = pd.DataFrame()\n",
    "Tiles_df['tile'] = np.arange(1,10)\n",
    "Tiles_df['file_number'] = [len(tile) for tile in Tiles_data]\n",
    "Tiles_df['memory_usage'] = [len(tile)*81*u.MB for tile in Tiles_data]\n",
    "Tiles_df['memory_usage_uc']= [(len(tile)*269*u.MB).to(u.GB) for tile in Tiles_data]"
   ]
  },
  {
   "cell_type": "code",
   "execution_count": 115,
   "metadata": {},
   "outputs": [
    {
     "data": {
      "text/html": [
       "<div>\n",
       "<style scoped>\n",
       "    .dataframe tbody tr th:only-of-type {\n",
       "        vertical-align: middle;\n",
       "    }\n",
       "\n",
       "    .dataframe tbody tr th {\n",
       "        vertical-align: top;\n",
       "    }\n",
       "\n",
       "    .dataframe thead th {\n",
       "        text-align: right;\n",
       "    }\n",
       "</style>\n",
       "<table border=\"1\" class=\"dataframe\">\n",
       "  <thead>\n",
       "    <tr style=\"text-align: right;\">\n",
       "      <th></th>\n",
       "      <th>tile</th>\n",
       "      <th>file_number</th>\n",
       "      <th>memory_usage</th>\n",
       "      <th>memory_usage_uc</th>\n",
       "    </tr>\n",
       "  </thead>\n",
       "  <tbody>\n",
       "    <tr>\n",
       "      <th>0</th>\n",
       "      <td>1</td>\n",
       "      <td>1635</td>\n",
       "      <td>132435.0 Mbyte</td>\n",
       "      <td>439.815 Gbyte</td>\n",
       "    </tr>\n",
       "    <tr>\n",
       "      <th>1</th>\n",
       "      <td>2</td>\n",
       "      <td>1612</td>\n",
       "      <td>130572.0 Mbyte</td>\n",
       "      <td>433.628 Gbyte</td>\n",
       "    </tr>\n",
       "    <tr>\n",
       "      <th>2</th>\n",
       "      <td>3</td>\n",
       "      <td>1101</td>\n",
       "      <td>89181.0 Mbyte</td>\n",
       "      <td>296.169 Gbyte</td>\n",
       "    </tr>\n",
       "    <tr>\n",
       "      <th>3</th>\n",
       "      <td>4</td>\n",
       "      <td>1101</td>\n",
       "      <td>89181.0 Mbyte</td>\n",
       "      <td>296.169 Gbyte</td>\n",
       "    </tr>\n",
       "    <tr>\n",
       "      <th>4</th>\n",
       "      <td>5</td>\n",
       "      <td>858</td>\n",
       "      <td>69498.0 Mbyte</td>\n",
       "      <td>230.802 Gbyte</td>\n",
       "    </tr>\n",
       "    <tr>\n",
       "      <th>5</th>\n",
       "      <td>6</td>\n",
       "      <td>1084</td>\n",
       "      <td>87804.0 Mbyte</td>\n",
       "      <td>291.596 Gbyte</td>\n",
       "    </tr>\n",
       "    <tr>\n",
       "      <th>6</th>\n",
       "      <td>7</td>\n",
       "      <td>837</td>\n",
       "      <td>67797.0 Mbyte</td>\n",
       "      <td>225.153 Gbyte</td>\n",
       "    </tr>\n",
       "    <tr>\n",
       "      <th>7</th>\n",
       "      <td>8</td>\n",
       "      <td>874</td>\n",
       "      <td>70794.0 Mbyte</td>\n",
       "      <td>235.106 Gbyte</td>\n",
       "    </tr>\n",
       "    <tr>\n",
       "      <th>8</th>\n",
       "      <td>9</td>\n",
       "      <td>0</td>\n",
       "      <td>0.0 Mbyte</td>\n",
       "      <td>0.0 Gbyte</td>\n",
       "    </tr>\n",
       "  </tbody>\n",
       "</table>\n",
       "</div>"
      ],
      "text/plain": [
       "   tile  file_number    memory_usage memory_usage_uc\n",
       "0     1         1635  132435.0 Mbyte   439.815 Gbyte\n",
       "1     2         1612  130572.0 Mbyte   433.628 Gbyte\n",
       "2     3         1101   89181.0 Mbyte   296.169 Gbyte\n",
       "3     4         1101   89181.0 Mbyte   296.169 Gbyte\n",
       "4     5          858   69498.0 Mbyte   230.802 Gbyte\n",
       "5     6         1084   87804.0 Mbyte   291.596 Gbyte\n",
       "6     7          837   67797.0 Mbyte   225.153 Gbyte\n",
       "7     8          874   70794.0 Mbyte   235.106 Gbyte\n",
       "8     9            0       0.0 Mbyte       0.0 Gbyte"
      ]
     },
     "execution_count": 115,
     "metadata": {},
     "output_type": "execute_result"
    }
   ],
   "source": [
    "Tiles_df"
   ]
  },
  {
   "cell_type": "markdown",
   "metadata": {},
   "source": [
    "Faltan archivos!!!!! lo voy a comparar con la lista de archivos de la request"
   ]
  },
  {
   "cell_type": "code",
   "execution_count": 116,
   "metadata": {},
   "outputs": [],
   "source": [
    "provs = []\n",
    "with open('/Users/mncavieres/Documents/2022-1/Investigacion/second_prop/filelist.1') as file_l:\n",
    "    file_list = file_l.readlines()\n",
    "    file_list = [fil.replace('\\n', '') for fil in file_list]\n",
    "    for fil in file_list:\n",
    "        if fil[0:4] == 'prov':\n",
    "            provs.append(fil)\n"
   ]
  },
  {
   "cell_type": "code",
   "execution_count": 136,
   "metadata": {},
   "outputs": [],
   "source": [
    "missing = []\n",
    "for fil_d in provs:\n",
    "    if fil_d[5:] not in data_2.file_names.values:\n",
    "        missing.append(fil_d)\n"
   ]
  },
  {
   "cell_type": "code",
   "execution_count": 143,
   "metadata": {},
   "outputs": [
    {
     "data": {
      "text/plain": [
       "1698"
      ]
     },
     "execution_count": 143,
     "metadata": {},
     "output_type": "execute_result"
    }
   ],
   "source": [
    "len(missing)"
   ]
  },
  {
   "cell_type": "code",
   "execution_count": 138,
   "metadata": {},
   "outputs": [
    {
     "data": {
      "text/plain": [
       "1698"
      ]
     },
     "execution_count": 138,
     "metadata": {},
     "output_type": "execute_result"
    }
   ],
   "source": [
    "len(provs) - len(data_2)"
   ]
  },
  {
   "cell_type": "code",
   "execution_count": 142,
   "metadata": {},
   "outputs": [],
   "source": [
    "#guardar como csv para iniciar la descarga de solo estos datos\n",
    "pd.DataFrame(data = missing).to_csv('missing_files', index=False, header=False)"
   ]
  },
  {
   "cell_type": "markdown",
   "metadata": {},
   "source": [
    "Ahora a revisar para la primera propuesta por si acaso"
   ]
  },
  {
   "cell_type": "code",
   "execution_count": 144,
   "metadata": {},
   "outputs": [],
   "source": [
    "provs = []\n",
    "with open('/Users/mncavieres/Documents/2022-1/Investigacion/Data/filelist') as file_l:\n",
    "    file_list = file_l.readlines()\n",
    "    file_list = [fil.replace('\\n', '') for fil in file_list]\n",
    "    for fil in file_list:\n",
    "        if fil[0:4] == 'prov':\n",
    "            provs.append(fil)"
   ]
  },
  {
   "cell_type": "code",
   "execution_count": 149,
   "metadata": {},
   "outputs": [
    {
     "data": {
      "text/plain": [
       "598"
      ]
     },
     "execution_count": 149,
     "metadata": {},
     "output_type": "execute_result"
    }
   ],
   "source": [
    "len(provs) - len(data) #TAMBIEN ME FALTAN DATOS!!! AAAAAH"
   ]
  },
  {
   "cell_type": "code",
   "execution_count": 150,
   "metadata": {},
   "outputs": [],
   "source": [
    "missing = []\n",
    "for fil_d in provs:\n",
    "    if fil_d[5:] not in data.file_names.values:\n",
    "        missing.append(fil_d)"
   ]
  },
  {
   "cell_type": "code",
   "execution_count": 151,
   "metadata": {},
   "outputs": [],
   "source": [
    "#guardar como csv para iniciar la descarga de solo estos datos\n",
    "pd.DataFrame(data = missing).to_csv('missing_files_first', index=False, header=False)"
   ]
  },
  {
   "cell_type": "code",
   "execution_count": 18,
   "metadata": {},
   "outputs": [],
   "source": [
    "files = pd.DataFrame()\n",
    "files['file_name'] = data_dir+tile_1_data.file_names.values\n",
    "t2 = Table.from_pandas(files)\n",
    "ascii.write(t2, 'image_list', overwrite=True)\n"
   ]
  },
  {
   "cell_type": "code",
   "execution_count": null,
   "metadata": {},
   "outputs": [],
   "source": [
    "#need comment ola manuel"
   ]
  }
 ],
 "metadata": {
  "kernelspec": {
   "display_name": "Python 3.9.7 ('base')",
   "language": "python",
   "name": "python3"
  },
  "language_info": {
   "codemirror_mode": {
    "name": "ipython",
    "version": 3
   },
   "file_extension": ".py",
   "mimetype": "text/x-python",
   "name": "python",
   "nbconvert_exporter": "python",
   "pygments_lexer": "ipython3",
   "version": "3.9.7"
  },
  "orig_nbformat": 4,
  "vscode": {
   "interpreter": {
    "hash": "a6be5aa52a5adcfe94449aa944f30eaf2a8dbc80c5e2acf0ebb53aed9088dd03"
   }
  }
 },
 "nbformat": 4,
 "nbformat_minor": 2
}
